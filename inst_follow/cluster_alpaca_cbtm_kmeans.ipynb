{
 "cells": [
  {
   "cell_type": "code",
   "execution_count": 42,
   "metadata": {},
   "outputs": [],
   "source": [
    "import sys\n",
    "\n",
    "import json\n",
    "import pickle\n",
    "import pandas\n",
    "import torch\n",
    "import asyncio\n",
    "import numpy as np \n",
    "import pandas as pd\n",
    "import seaborn as sns   \n",
    "import torch.nn.functional as F\n",
    "from matplotlib import pyplot as plt\n",
    "sys.path.append(\"/home/v-oostapenko/dev/mttl\")    \n",
    "from scipy.stats import entropy as calc_entropy\n",
    "from mttl.cluster_tuning.encodings import ClusterInfos\n",
    "from mttl.datamodule.alpaca_data_module import AlpacaDataModule\n",
    "from finetune_llama import Config\n",
    "from mttl.cluster_tuning.cluster_reader import ClusterResult\n",
    "from inst_follow.utils import load_model, TopicRouter,disable_torch_init\n",
    "device = \"cuda\" if torch.cuda.is_available() else \"cpu\"\n",
    "# import matplotlib.pyplot as plt\n",
    "# import seaborn as sns\n",
    "\n",
    "import json\n",
    "import os \n",
    "import sys \n",
    "import numpy as np\n",
    "import click\n",
    "import json\n",
    "import tqdm\n",
    "import copy\n",
    "import torch\n",
    "import datasets\n",
    "from types import SimpleNamespace\n",
    "sys.path.append(\"/home/v-oostapenko/dev/mttl\")\n",
    "from inst_follow.models.clm import CLM  \n",
    "from transformers import LlamaTokenizer  \n",
    "from mttl.models.poly import get_selector     \n",
    "from mttl.models.modify_model import modify_transformer  \n",
    "from finetune_llama import parse_config, Config\n",
    "from inst_follow.utils import load_model, TopicRouter,disable_torch_init\n",
    "from mttl.cluster_tuning.cluster_reader import ClusterResult\n",
    "from transformers import AutoTokenizer, AutoModelForCausalLM, LlamaForCausalLM\n",
    "import openai\n",
    "openai.api_key = \"f48b5a4f15dc4e58991738ab066ba465\""
   ]
  },
  {
   "cell_type": "code",
   "execution_count": 75,
   "metadata": {},
   "outputs": [],
   "source": [
    "nc = 4\n",
    "# loda cluster data\n",
    "path_to_clusterers = f\"/home/v-oostapenko/dev/mttl/inst_follow/cluster_infos/cbtm/clustered_{nc}_distances.json\"\n",
    "df = pd.read_json(path_to_clusterers, lines=True)\n",
    "df[\"probs\"]=df[\"cluster\"].apply(lambda x: np.array(F.softmax(-torch.tensor(x) / 0.1, dim=-1).tolist()))\n",
    "df[\"entropy\"] = df[\"probs\"].apply(lambda x: calc_entropy(x, axis=-1)/ np.log2(len(x)))\n",
    "# convert to dict, with key being sp_id\n",
    "hash_to_cluster = df.set_index(\"sp_id\").to_dict()[\"cluster\"]\n",
    "# probs = np.array(df[\"probs\"].tolist())"
   ]
  },
  {
   "cell_type": "code",
   "execution_count": 71,
   "metadata": {},
   "outputs": [],
   "source": [
    "entr = df[\"entropy\"].values\n",
    "low_entr_idxs = np.where(entr <= 0.1)[0]\n",
    "high_entr_idxs = np.where(entr > 0.4)[0]"
   ]
  },
  {
   "cell_type": "code",
   "execution_count": 76,
   "metadata": {},
   "outputs": [
    {
     "name": "stderr",
     "output_type": "stream",
     "text": [
      "WARNING:datasets.builder:Found cached dataset json (/home/v-oostapenko/.cache/huggingface/datasets/yahma___json/yahma--alpaca-cleaned-5d24553f76c14acc/0.0.0/fe5dd6ea2639a6df622901539cb550cf8797e5a6b2dd7af1cf934bed8e233e6e)\n",
      "100%|██████████| 1/1 [00:00<00:00, 655.87it/s]\n"
     ]
    }
   ],
   "source": [
    "from mttl.dataloader.alpaca_dataset_readers import AlpacaDataset               \n",
    "tokenizer = LlamaTokenizer.from_pretrained(\"yahma/llama-7b-hf\", add_eos_token=True)\n",
    "tokenizer.pad_token_id = 0 \n",
    "max_input_length=256   \n",
    "max_output_length=128 \n",
    "data_dir=None          \n",
    "dataset = AlpacaDataset(tokenizer, max_input_length, max_output_length, data_dir, train_on_inputs=False)    "
   ]
  },
  {
   "cell_type": "code",
   "execution_count": null,
   "metadata": {},
   "outputs": [],
   "source": [
    "# rng = np.random.default_rng(42)\n",
    "# all_test_idxs = rng.choice(len(dataset), size=1000, replace=False)"
   ]
  },
  {
   "cell_type": "code",
   "execution_count": 79,
   "metadata": {},
   "outputs": [
    {
     "name": "stderr",
     "output_type": "stream",
     "text": [
      "100%|██████████| 51760/51760 [01:41<00:00, 507.89it/s]\n",
      "100%|██████████| 51760/51760 [01:41<00:00, 507.95it/s]\n",
      "100%|██████████| 51760/51760 [01:40<00:00, 514.48it/s]\n",
      "100%|██████████| 51760/51760 [01:39<00:00, 518.08it/s]\n"
     ]
    },
    {
     "name": "stderr",
     "output_type": "stream",
     "text": [
      "Bad pipe message: %s [b'Kk\\x8a\\x95\\x9d\\xf3y\\x95\\xfd\\xc86x\\xc4\\x01W\\xae\\xfb\\x97 \\xa2\\x9c\\xfe\\xc4C\\x1dSU\\xd4k\\xf1KA,\\x87\\x19\\xa1\\xd7\\x9e\\\\\\xc4k\\xc0N7\\x12\\xff\\xfaN\\x11\\xbcV\\x00\\x08\\x13\\x02\\x13\\x03\\x13\\x01\\x00\\xff\\x01\\x00\\x00\\x8f\\x00\\x00\\x00\\x0e\\x00\\x0c\\x00\\x00\\t127.0', b'.1\\x00\\x0b\\x00\\x04\\x03\\x00\\x01\\x02\\x00\\n\\x00\\x0c\\x00\\n\\x00\\x1d\\x00\\x17\\x00\\x1e\\x00\\x19\\x00\\x18\\x00#\\x00\\x00\\x00\\x16\\x00\\x00\\x00\\x17\\x00\\x00\\x00\\r\\x00\\x1e\\x00\\x1c\\x04']\n",
      "Bad pipe message: %s [b'\\x03\\x06', b'\\x07\\x08']\n",
      "Bad pipe message: %s [b'\\t\\x08\\n\\x08\\x0b\\x08\\x04']\n",
      "Bad pipe message: %s [b'8\\xe90B0%\\xd6\\x99\\x84q\\x1d@\\x08\\x10\\xfd\\x8c#\\x15 l\\xc2X\\x0ba\\xa2s\\xd5\\x16>4,m\\xd6t']\n",
      "Bad pipe message: %s [b'\\x08\\x06\\x04\\x01\\x05\\x01\\x06', b'']\n",
      "Bad pipe message: %s [b'a7@\\xaa7\\xd2\\xa8t\\x8a \\x9b\\xfb\\x82#T\\x00\\x08\\x13\\x02\\x13\\x03\\x13\\x01\\x00\\xff\\x01\\x00\\x00\\x8f\\x00\\x00\\x00\\x0e\\x00\\x0c\\x00\\x00\\t127.0.0.1\\x00\\x0b\\x00\\x04\\x03\\x00\\x01\\x02\\x00\\n\\x00\\x0c\\x00\\n\\x00\\x1d\\x00\\x17\\x00\\x1e\\x00\\x19\\x00\\x18\\x00#\\x00\\x00\\x00\\x16\\x00\\x00\\x00\\x17\\x00\\x00\\x00\\r\\x00\\x1e\\x00\\x1c\\x04\\x03\\x05\\x03\\x06\\x03\\x08\\x07\\x08\\x08\\x08\\t\\x08\\n']\n",
      "Bad pipe message: %s [b\"\\xfb\\xe2\\xc0\\x1d\\xc5\\x8f\\xd0pQ\\xa8\\xd9\\x11D<s\\xe7\\x98\\xe9\\x00\\x00|\\xc0,\\xc00\\x00\\xa3\\x00\\x9f\\xcc\\xa9\\xcc\\xa8\\xcc\\xaa\\xc0\\xaf\\xc0\\xad\\xc0\\xa3\\xc0\\x9f\\xc0]\\xc0a\\xc0W\\xc0S\\xc0+\\xc0/\\x00\\xa2\\x00\\x9e\\xc0\\xae\\xc0\\xac\\xc0\\xa2\\xc0\\x9e\\xc0\\\\\\xc0`\\xc0V\\xc0R\\xc0$\\xc0(\\x00k\\x00j\\xc0#\\xc0'\\x00g\\x00@\\xc0\\n\\xc0\\x14\\x009\\x008\\xc0\\t\\xc0\\x13\\x003\\x002\\x00\\x9d\\xc0\\xa1\\xc0\\x9d\\xc0Q\\x00\\x9c\\xc0\\xa0\\xc0\\x9c\\xc0P\\x00=\\x00<\\x005\\x00/\\x00\\x9a\\x00\\x99\\xc0\\x07\\xc0\\x11\\x00\\x96\\x00\\x05\\x00\\xff\\x01\\x00\\x00j\\x00\\x00\\x00\\x0e\\x00\\x0c\\x00\\x00\\t127.0.0.1\\x00\\x0b\\x00\\x04\\x03\\x00\\x01\\x02\\x00\\n\\x00\\x0c\\x00\\n\\x00\\x1d\\x00\\x17\\x00\\x1e\\x00\\x19\\x00\\x18\\x00#\\x00\\x00\\x00\\x16\\x00\\x00\\x00\\x17\\x00\\x00\\x00\\r\\x000\\x00.\\x04\\x03\\x05\\x03\\x06\\x03\\x08\\x07\\x08\\x08\\x08\\t\\x08\\n\\x08\\x0b\\x08\\x04\\x08\\x05\\x08\\x06\\x04\\x01\\x05\\x01\\x06\\x01\\x03\\x03\\x02\\x03\\x03\\x01\\x02\\x01\\x03\\x02\", b'\\x04']\n",
      "Bad pipe message: %s [b\"\\x03\\x02\\x03\\x04\\x00-\\x00\\x02\\x01\\x01\\x003\\x00&\\x00$\\x00\\x1d\\x00 \\xc4\\xb5)*5\\xbe\\x9e\\x8b[D\\x88\\x136\\xf00\\xf4'\\n\\x88o\\r\\x1d\"]\n",
      "Bad pipe message: %s [b'\\x08\\x04\\x08\\x05\\x08\\x06\\x04', b'', b'']\n",
      "Bad pipe message: %s [b\"D\\x99\\x81\\x9c\\xd6\\xc3;i\\xe3\\x9cS\\xa7\\x82\\x06\\xb9L\\x91\\xee\\x00\\x00\\xa6\\xc0,\\xc00\\x00\\xa3\\x00\\x9f\\xcc\\xa9\\xcc\\xa8\\xcc\\xaa\\xc0\\xaf\\xc0\\xad\\xc0\\xa3\\xc0\\x9f\\xc0]\\xc0a\\xc0W\\xc0S\\xc0+\\xc0/\\x00\\xa2\\x00\\x9e\\xc0\\xae\\xc0\\xac\\xc0\\xa2\\xc0\\x9e\\xc0\\\\\\xc0`\\xc0V\\xc0R\\xc0$\\xc0(\\x00k\\x00j\\xc0s\\xc0w\\x00\\xc4\\x00\\xc3\\xc0#\\xc0'\\x00g\\x00@\\xc0r\\xc0v\\x00\\xbe\\x00\\xbd\\xc0\\n\\xc0\\x14\\x009\\x008\\x00\\x88\\x00\\x87\\xc0\\t\\xc0\\x13\\x003\\x002\\x00\\x9a\\x00\\x99\\x00E\\x00D\\xc0\\x07\\xc0\\x11\\xc0\\x08\\xc0\\x12\\x00\\x16\\x00\\x13\\x00\\x9d\\xc0\\xa1\\xc0\\x9d\\xc0Q\\x00\\x9c\\xc0\\xa0\\xc0\\x9c\\xc0P\\x00=\\x00\\xc0\\x00<\\x00\\xba\\x005\\x00\\x84\\x00/\\x00\\x96\\x00A\\x00\\x05\\x00\\n\\x00\\xff\\x01\\x00\\x00j\\x00\\x00\\x00\\x0e\\x00\\x0c\\x00\\x00\\t127.0.0.1\\x00\\x0b\\x00\\x04\\x03\\x00\\x01\\x02\\x00\\n\\x00\\x0c\"]\n",
      "Bad pipe message: %s [b'']\n",
      "Bad pipe message: %s [b\"\\x03\\x02\\x03\\x04\\x00-\\x00\\x02\\x01\\x01\\x003\\x00&\\x00$\\x00\\x1d\\x00 \\x8a\\xbfMB\\x13k\\xec\\x91\\x19\\x0f\\xbb+\\xac\\xa7'\\xad\\xe3\\xafW\\xb3x\\xb7\"]\n",
      "Bad pipe message: %s [b'\\x0cC\\x9fK\\x0eR\\x8e4LO\\xea\\x1b\\xfcJkgh[\\x00\\x00\\xa2\\xc0\\x14\\xc0\\n\\x009\\x008\\x007\\x006\\x00\\x88\\x00\\x87\\x00\\x86\\x00\\x85\\xc0\\x19\\x00:\\x00\\x89\\xc0\\x0f\\xc0\\x05\\x005\\x00\\x84\\xc0\\x13\\xc0\\t\\x00', b'2\\x001\\x000\\x00\\x9a\\x00\\x99\\x00\\x98\\x00\\x97\\x00E\\x00D\\x00C\\x00B\\xc0\\x18\\x004\\x00\\x9b\\x00F\\xc0\\x0e\\xc0\\x04\\x00/\\x00\\x96\\x00A\\x00\\x07\\xc0\\x11\\xc0\\x07\\xc0\\x16\\x00\\x18\\xc0']\n",
      "Bad pipe message: %s [b'\\x02\\x00\\x05\\x00\\x04\\xc0\\x12\\xc0\\x08\\x00\\x16']\n",
      "Bad pipe message: %s [b',\\xcb\\xcb\\xca\\x03\\xdcy\\xbe\\xf0\\x87\\xd8\\x12\\x84\\xbd\\x0fG\\xebs\\x00\\x00\\xa2\\xc0\\x14\\xc0\\n\\x009\\x008\\x007\\x006\\x00\\x88\\x00\\x87\\x00\\x86\\x00\\x85\\xc0\\x19\\x00:\\x00\\x89\\xc0\\x0f\\xc0']\n",
      "Bad pipe message: %s [b'5\\x00\\x84\\xc0']\n",
      "Bad pipe message: %s [b'\\t\\x003\\x002\\x001\\x000\\x00\\x9a\\x00\\x99\\x00\\x98\\x00\\x97\\x00']\n",
      "Bad pipe message: %s [b'D\\x00C\\x00B\\xc0\\x18\\x004\\x00\\x9b\\x00F\\xc0\\x0e\\xc0\\x04\\x00/\\x00\\x96\\x00A\\x00\\x07\\xc0\\x11\\xc0\\x07\\xc0\\x16\\x00\\x18\\xc0\\x0c\\xc0\\x02\\x00\\x05\\x00\\x04\\xc0\\x12\\xc0\\x08\\x00\\x16\\x00\\x13\\x00\\x10\\x00\\r\\xc0\\x17\\x00\\x1b\\xc0\\r\\xc0\\x03\\x00\\n\\x00\\x15\\x00\\x12\\x00']\n",
      "Bad pipe message: %s [b'\\x0c\\x00\\x1a\\x00\\t\\x00\\x14\\x00\\x11\\x00\\x19\\x00\\x08\\x00']\n",
      "Bad pipe message: %s [b'\\x17\\x00\\x03\\xc0\\x10']\n",
      "Bad pipe message: %s [b'\\xec\\xf2P\\\\\\xfer\\x150\\xde#']\n",
      "Bad pipe message: %s [b'\"\\xfbkf\\x11\\x08\\x00\\x00\\xa2\\xc0\\x14\\xc0\\n\\x009\\x008\\x007\\x006\\x00\\x88\\x00\\x87\\x00\\x86\\x00\\x85\\xc0\\x19\\x00:\\x00\\x89\\xc0\\x0f\\xc0\\x05\\x005\\x00\\x84\\xc0\\x13\\xc0\\t\\x00']\n",
      "Bad pipe message: %s [b'2\\x001\\x000\\x00\\x9a\\x00\\x99\\x00\\x98\\x00\\x97\\x00E\\x00D\\x00C\\x00B\\xc0\\x18\\x004\\x00\\x9b\\x00F\\xc0\\x0e\\xc0\\x04\\x00/\\x00\\x96\\x00A\\x00\\x07\\xc0\\x11\\xc0\\x07\\xc0\\x16\\x00\\x18\\xc0']\n",
      "Bad pipe message: %s [b'\\x02\\x00\\x05\\x00\\x04\\xc0\\x12\\xc0\\x08\\x00\\x16']\n",
      "Bad pipe message: %s [b'\\x1f\\x8e\\x86C\\xee\\xba\\xe9\\x05\\x07\\xa5\\xe6\\xd0\\xfc\\x9c_\\x113\\xd1\\x00\\x00\\x86\\xc0', b',\\xc0(\\xc0$\\xc0\\x14\\xc0\\n\\x00\\xa5\\x00\\xa3\\x00\\xa1\\x00\\x9f\\x00k\\x00j\\x00i\\x00h\\x009\\x008\\x007\\x006\\xc02\\xc0.\\xc0*\\xc0&\\xc0\\x0f\\xc0\\x05\\x00\\x9d']\n",
      "Bad pipe message: %s [b'L\\xe9\\xf3\\xd79\\xc0\\xb7|\\xb8\\x91\\xc9\\xf1\\xd6\\xd7\\xc0\\x89\\x15\\x8c\\x00\\x00\\xf4\\xc00\\xc0,\\xc0(\\xc0$\\xc0\\x14\\xc0\\n\\x00\\xa5\\x00\\xa3\\x00\\xa1\\x00\\x9f\\x00k\\x00j\\x00i\\x00h\\x009\\x008\\x007\\x006\\x00\\x88\\x00\\x87\\x00\\x86\\x00\\x85\\xc0\\x19\\x00\\xa7\\x00m\\x00:\\x00\\x89\\xc02\\xc0.\\xc0*\\xc0&\\xc0\\x0f\\xc0\\x05\\x00\\x9d\\x00']\n",
      "Bad pipe message: %s [b\"5\\x00\\x84\\xc0/\\xc0+\\xc0'\\xc0#\\xc0\\x13\\xc0\\t\\x00\\xa4\\x00\\xa2\\x00\\xa0\\x00\\x9e\\x00g\\x00@\\x00?\\x00>\\x003\\x002\\x001\\x000\\x00\\x9a\\x00\\x99\\x00\\x98\\x00\\x97\\x00E\\x00D\\x00C\\x00B\\xc0\\x18\\x00\\xa6\\x00\"]\n",
      "Bad pipe message: %s [b'4\\x00\\x9b\\x00F\\xc01\\xc0-\\xc0)\\xc0%\\xc0\\x0e\\xc0\\x04\\x00\\x9c\\x00<\\x00/\\x00\\x96\\x00A\\x00\\x07\\xc0\\x11\\xc0\\x07\\xc0\\x16\\x00\\x18\\xc0\\x0c\\xc0\\x02\\x00\\x05\\x00\\x04\\xc0\\x12\\xc0\\x08\\x00\\x16\\x00\\x13\\x00\\x10\\x00\\r\\xc0\\x17\\x00\\x1b\\xc0\\r\\xc0\\x03\\x00\\n\\x00\\x15\\x00\\x12\\x00\\x0f\\x00\\x0c\\x00\\x1a\\x00\\t\\x00\\x14\\x00\\x11\\x00\\x19\\x00\\x08\\x00\\x06\\x00\\x17\\x00\\x03\\xc0\\x10\\xc0\\x06\\xc0\\x15\\xc0\\x0b\\xc0\\x01\\x00;\\x00\\x02']\n"
     ]
    }
   ],
   "source": [
    "nc = 4\n",
    "for nc in [4,8,16,32]:\n",
    "    # loda cluster data\n",
    "    path_to_clusterers = f\"/home/v-oostapenko/dev/mttl/inst_follow/cluster_infos/cbtm/clustered_{nc}_distances.json\"\n",
    "    df = pd.read_json(path_to_clusterers, lines=True)\n",
    "    df[\"probs\"]=df[\"cluster\"].apply(lambda x: np.array(F.softmax(-torch.tensor(x) / 0.1, dim=-1).tolist()))\n",
    "    df[\"entropy\"] = df[\"probs\"].apply(lambda x: calc_entropy(x, axis=-1)/ np.log2(len(x)))\n",
    "    # convert to dict, with key being sp_id\n",
    "    hash_to_cluster = df.set_index(\"sp_id\").to_dict()[\"cluster\"]\n",
    "    # probs = np.array(df[\"probs\"].tolist())\n",
    "    cluster_infos_new = ClusterInfos()     \n",
    "    for i,(example, ex_dict_raw) in tqdm.tqdm(enumerate(zip(dataset,dataset.dataset)), total=len(dataset)):\n",
    "        # topics_example = example[\"skill_set\"]\n",
    "        assert example.input_text.split(\"\\n### Instruction:\")[1].split(\"###\")[0].strip() == ex_dict_raw[\"instruction\"].strip(), (example.input_text.split(\"Instruction:\")[1].split(\"###\")[0].strip(), ex_dict_raw[\"instruction\"])\n",
    "        hash = example.hash     \n",
    "        probs = hash_to_cluster[hash]\n",
    "        is_test = 0\n",
    "        # assert np.sum(probs)==1\n",
    "        # print(np.sum(probs))    \n",
    "        main_t = np.argmin(probs)    \n",
    "        cluster_infos_new.is_test.extend([is_test])     \n",
    "        cluster_infos_new.task_names.extend([str(main_t)])\n",
    "        cluster_infos_new.cluster_ids.extend([int(main_t)])    \n",
    "        cluster_infos_new.hashes.extend([hash])\n",
    "        cluster_infos_new.cluster_dists.extend([probs])\n",
    "    # assert sum(cluster_infos_new.is_test) == len(all_test_idxs)\n",
    "    cluster_infos_new.save(f\"/home/v-oostapenko/dev/mttl/inst_follow/cluster_infos/cbtm/cbtm_tfidf_kmeans_{nc}.pkl\")"
   ]
  },
  {
   "cell_type": "code",
   "execution_count": null,
   "metadata": {},
   "outputs": [],
   "source": []
  }
 ],
 "metadata": {
  "kernelspec": {
   "display_name": "comp_3.9",
   "language": "python",
   "name": "python3"
  },
  "language_info": {
   "codemirror_mode": {
    "name": "ipython",
    "version": 3
   },
   "file_extension": ".py",
   "mimetype": "text/x-python",
   "name": "python",
   "nbconvert_exporter": "python",
   "pygments_lexer": "ipython3",
   "version": "3.9.16"
  },
  "orig_nbformat": 4
 },
 "nbformat": 4,
 "nbformat_minor": 2
}
